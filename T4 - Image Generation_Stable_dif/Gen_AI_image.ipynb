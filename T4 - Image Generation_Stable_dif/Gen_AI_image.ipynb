{
  "nbformat": 4,
  "nbformat_minor": 0,
  "metadata": {
    "colab": {
      "provenance": [],
      "gpuType": "T4"
    },
    "kernelspec": {
      "name": "python3",
      "display_name": "Python 3"
    },
    "language_info": {
      "name": "python"
    },
    "widgets": {
      "application/vnd.jupyter.widget-state+json": {
        "bac31731685e4a8da0264649bb6e46de": {
          "model_module": "@jupyter-widgets/controls",
          "model_name": "HBoxModel",
          "model_module_version": "1.5.0",
          "state": {
            "_dom_classes": [],
            "_model_module": "@jupyter-widgets/controls",
            "_model_module_version": "1.5.0",
            "_model_name": "HBoxModel",
            "_view_count": null,
            "_view_module": "@jupyter-widgets/controls",
            "_view_module_version": "1.5.0",
            "_view_name": "HBoxView",
            "box_style": "",
            "children": [
              "IPY_MODEL_0c01dfd528644b70b48cf54b07d5ed4b",
              "IPY_MODEL_82871dcd4ec445b184111420df6abc47",
              "IPY_MODEL_71799a0b800845a4868c64731226a6c7"
            ],
            "layout": "IPY_MODEL_ac0d9ff2ea264aa2920f603f0ae81a8b"
          }
        },
        "0c01dfd528644b70b48cf54b07d5ed4b": {
          "model_module": "@jupyter-widgets/controls",
          "model_name": "HTMLModel",
          "model_module_version": "1.5.0",
          "state": {
            "_dom_classes": [],
            "_model_module": "@jupyter-widgets/controls",
            "_model_module_version": "1.5.0",
            "_model_name": "HTMLModel",
            "_view_count": null,
            "_view_module": "@jupyter-widgets/controls",
            "_view_module_version": "1.5.0",
            "_view_name": "HTMLView",
            "description": "",
            "description_tooltip": null,
            "layout": "IPY_MODEL_d5d9d6841bd84ed0a479c93b927493e2",
            "placeholder": "​",
            "style": "IPY_MODEL_ff9a74afeb674a32acb5eeb2a5b21a88",
            "value": "100%"
          }
        },
        "82871dcd4ec445b184111420df6abc47": {
          "model_module": "@jupyter-widgets/controls",
          "model_name": "FloatProgressModel",
          "model_module_version": "1.5.0",
          "state": {
            "_dom_classes": [],
            "_model_module": "@jupyter-widgets/controls",
            "_model_module_version": "1.5.0",
            "_model_name": "FloatProgressModel",
            "_view_count": null,
            "_view_module": "@jupyter-widgets/controls",
            "_view_module_version": "1.5.0",
            "_view_name": "ProgressView",
            "bar_style": "success",
            "description": "",
            "description_tooltip": null,
            "layout": "IPY_MODEL_0c59ed5705f644b4becee7d9c24495eb",
            "max": 50,
            "min": 0,
            "orientation": "horizontal",
            "style": "IPY_MODEL_3de3be868f8a475c9bf4fc291d8fc1e3",
            "value": 50
          }
        },
        "71799a0b800845a4868c64731226a6c7": {
          "model_module": "@jupyter-widgets/controls",
          "model_name": "HTMLModel",
          "model_module_version": "1.5.0",
          "state": {
            "_dom_classes": [],
            "_model_module": "@jupyter-widgets/controls",
            "_model_module_version": "1.5.0",
            "_model_name": "HTMLModel",
            "_view_count": null,
            "_view_module": "@jupyter-widgets/controls",
            "_view_module_version": "1.5.0",
            "_view_name": "HTMLView",
            "description": "",
            "description_tooltip": null,
            "layout": "IPY_MODEL_750d9f02209c42abaaab9504030a8718",
            "placeholder": "​",
            "style": "IPY_MODEL_0e5f3ee586f8459d9134e618b21d567f",
            "value": " 50/50 [00:22&lt;00:00,  2.28it/s]"
          }
        },
        "ac0d9ff2ea264aa2920f603f0ae81a8b": {
          "model_module": "@jupyter-widgets/base",
          "model_name": "LayoutModel",
          "model_module_version": "1.2.0",
          "state": {
            "_model_module": "@jupyter-widgets/base",
            "_model_module_version": "1.2.0",
            "_model_name": "LayoutModel",
            "_view_count": null,
            "_view_module": "@jupyter-widgets/base",
            "_view_module_version": "1.2.0",
            "_view_name": "LayoutView",
            "align_content": null,
            "align_items": null,
            "align_self": null,
            "border": null,
            "bottom": null,
            "display": null,
            "flex": null,
            "flex_flow": null,
            "grid_area": null,
            "grid_auto_columns": null,
            "grid_auto_flow": null,
            "grid_auto_rows": null,
            "grid_column": null,
            "grid_gap": null,
            "grid_row": null,
            "grid_template_areas": null,
            "grid_template_columns": null,
            "grid_template_rows": null,
            "height": null,
            "justify_content": null,
            "justify_items": null,
            "left": null,
            "margin": null,
            "max_height": null,
            "max_width": null,
            "min_height": null,
            "min_width": null,
            "object_fit": null,
            "object_position": null,
            "order": null,
            "overflow": null,
            "overflow_x": null,
            "overflow_y": null,
            "padding": null,
            "right": null,
            "top": null,
            "visibility": null,
            "width": null
          }
        },
        "d5d9d6841bd84ed0a479c93b927493e2": {
          "model_module": "@jupyter-widgets/base",
          "model_name": "LayoutModel",
          "model_module_version": "1.2.0",
          "state": {
            "_model_module": "@jupyter-widgets/base",
            "_model_module_version": "1.2.0",
            "_model_name": "LayoutModel",
            "_view_count": null,
            "_view_module": "@jupyter-widgets/base",
            "_view_module_version": "1.2.0",
            "_view_name": "LayoutView",
            "align_content": null,
            "align_items": null,
            "align_self": null,
            "border": null,
            "bottom": null,
            "display": null,
            "flex": null,
            "flex_flow": null,
            "grid_area": null,
            "grid_auto_columns": null,
            "grid_auto_flow": null,
            "grid_auto_rows": null,
            "grid_column": null,
            "grid_gap": null,
            "grid_row": null,
            "grid_template_areas": null,
            "grid_template_columns": null,
            "grid_template_rows": null,
            "height": null,
            "justify_content": null,
            "justify_items": null,
            "left": null,
            "margin": null,
            "max_height": null,
            "max_width": null,
            "min_height": null,
            "min_width": null,
            "object_fit": null,
            "object_position": null,
            "order": null,
            "overflow": null,
            "overflow_x": null,
            "overflow_y": null,
            "padding": null,
            "right": null,
            "top": null,
            "visibility": null,
            "width": null
          }
        },
        "ff9a74afeb674a32acb5eeb2a5b21a88": {
          "model_module": "@jupyter-widgets/controls",
          "model_name": "DescriptionStyleModel",
          "model_module_version": "1.5.0",
          "state": {
            "_model_module": "@jupyter-widgets/controls",
            "_model_module_version": "1.5.0",
            "_model_name": "DescriptionStyleModel",
            "_view_count": null,
            "_view_module": "@jupyter-widgets/base",
            "_view_module_version": "1.2.0",
            "_view_name": "StyleView",
            "description_width": ""
          }
        },
        "0c59ed5705f644b4becee7d9c24495eb": {
          "model_module": "@jupyter-widgets/base",
          "model_name": "LayoutModel",
          "model_module_version": "1.2.0",
          "state": {
            "_model_module": "@jupyter-widgets/base",
            "_model_module_version": "1.2.0",
            "_model_name": "LayoutModel",
            "_view_count": null,
            "_view_module": "@jupyter-widgets/base",
            "_view_module_version": "1.2.0",
            "_view_name": "LayoutView",
            "align_content": null,
            "align_items": null,
            "align_self": null,
            "border": null,
            "bottom": null,
            "display": null,
            "flex": null,
            "flex_flow": null,
            "grid_area": null,
            "grid_auto_columns": null,
            "grid_auto_flow": null,
            "grid_auto_rows": null,
            "grid_column": null,
            "grid_gap": null,
            "grid_row": null,
            "grid_template_areas": null,
            "grid_template_columns": null,
            "grid_template_rows": null,
            "height": null,
            "justify_content": null,
            "justify_items": null,
            "left": null,
            "margin": null,
            "max_height": null,
            "max_width": null,
            "min_height": null,
            "min_width": null,
            "object_fit": null,
            "object_position": null,
            "order": null,
            "overflow": null,
            "overflow_x": null,
            "overflow_y": null,
            "padding": null,
            "right": null,
            "top": null,
            "visibility": null,
            "width": null
          }
        },
        "3de3be868f8a475c9bf4fc291d8fc1e3": {
          "model_module": "@jupyter-widgets/controls",
          "model_name": "ProgressStyleModel",
          "model_module_version": "1.5.0",
          "state": {
            "_model_module": "@jupyter-widgets/controls",
            "_model_module_version": "1.5.0",
            "_model_name": "ProgressStyleModel",
            "_view_count": null,
            "_view_module": "@jupyter-widgets/base",
            "_view_module_version": "1.2.0",
            "_view_name": "StyleView",
            "bar_color": null,
            "description_width": ""
          }
        },
        "750d9f02209c42abaaab9504030a8718": {
          "model_module": "@jupyter-widgets/base",
          "model_name": "LayoutModel",
          "model_module_version": "1.2.0",
          "state": {
            "_model_module": "@jupyter-widgets/base",
            "_model_module_version": "1.2.0",
            "_model_name": "LayoutModel",
            "_view_count": null,
            "_view_module": "@jupyter-widgets/base",
            "_view_module_version": "1.2.0",
            "_view_name": "LayoutView",
            "align_content": null,
            "align_items": null,
            "align_self": null,
            "border": null,
            "bottom": null,
            "display": null,
            "flex": null,
            "flex_flow": null,
            "grid_area": null,
            "grid_auto_columns": null,
            "grid_auto_flow": null,
            "grid_auto_rows": null,
            "grid_column": null,
            "grid_gap": null,
            "grid_row": null,
            "grid_template_areas": null,
            "grid_template_columns": null,
            "grid_template_rows": null,
            "height": null,
            "justify_content": null,
            "justify_items": null,
            "left": null,
            "margin": null,
            "max_height": null,
            "max_width": null,
            "min_height": null,
            "min_width": null,
            "object_fit": null,
            "object_position": null,
            "order": null,
            "overflow": null,
            "overflow_x": null,
            "overflow_y": null,
            "padding": null,
            "right": null,
            "top": null,
            "visibility": null,
            "width": null
          }
        },
        "0e5f3ee586f8459d9134e618b21d567f": {
          "model_module": "@jupyter-widgets/controls",
          "model_name": "DescriptionStyleModel",
          "model_module_version": "1.5.0",
          "state": {
            "_model_module": "@jupyter-widgets/controls",
            "_model_module_version": "1.5.0",
            "_model_name": "DescriptionStyleModel",
            "_view_count": null,
            "_view_module": "@jupyter-widgets/base",
            "_view_module_version": "1.2.0",
            "_view_name": "StyleView",
            "description_width": ""
          }
        }
      }
    },
    "accelerator": "GPU"
  },
  "cells": [
    {
      "cell_type": "markdown",
      "source": [
        "# Install Required Libraries\n",
        "In this section, we install the required libraries for Generative AI, focusing on image generation using Stable Diffusion.\n"
      ],
      "metadata": {
        "id": "kXwcCLlEg78F"
      }
    },
    {
      "cell_type": "code",
      "source": [],
      "metadata": {
        "id": "mWvAr_O9ECOu"
      },
      "execution_count": null,
      "outputs": []
    },
    {
      "cell_type": "code",
      "source": [
        "!pip install diffusers transformers accelerate\n"
      ],
      "metadata": {
        "id": "-FpfmqEFg8va"
      },
      "execution_count": null,
      "outputs": []
    },
    {
      "cell_type": "markdown",
      "source": [
        "# Introduction to Generative AI\n",
        "Generative AI involves creating new content, such as images, text, or audio, using AI models. For image generation:\n",
        "- **Generator**: Creates new images based on input (e.g., a text prompt).\n",
        "- **Discriminator**: Evaluates the generated content (mainly used in GANs).\n",
        "\n",
        "In this notebook, we'll use a pre-trained Stable Diffusion model to generate images from text prompts.\n"
      ],
      "metadata": {
        "id": "eq6KJDgBhEqH"
      }
    },
    {
      "cell_type": "markdown",
      "source": [
        "# Import Libraries\n",
        "Import the necessary libraries for using the Stable Diffusion model.\n"
      ],
      "metadata": {
        "id": "Ue1Z6wjihPYn"
      }
    },
    {
      "cell_type": "code",
      "source": [
        "from diffusers import StableDiffusionPipeline\n",
        "import torch\n",
        "from PIL import Image\n"
      ],
      "metadata": {
        "id": "VgFzHL9nhPy-"
      },
      "execution_count": null,
      "outputs": []
    },
    {
      "cell_type": "markdown",
      "source": [
        "# Load a Pre-trained Model\n",
        "Here we load a pre-trained Stable Diffusion model from the `diffusers` library. This model generates images based on a given text prompt.\n"
      ],
      "metadata": {
        "id": "-ib9giSXhYck"
      }
    },
    {
      "cell_type": "code",
      "source": [
        "# Load the Stable Diffusion pipeline\n",
        "pipe = StableDiffusionPipeline.from_pretrained(\"runwayml/stable-diffusion-v1-5\")\n",
        "pipe = pipe.to(\"cuda\" if torch.cuda.is_available() else \"cpu\")\n",
        "\n",
        "print(\"Model loaded successfully!\")\n"
      ],
      "metadata": {
        "id": "lwqGZr1ahZNX"
      },
      "execution_count": null,
      "outputs": []
    },
    {
      "cell_type": "markdown",
      "source": [
        "# Generate an Image\n",
        "Provide a text prompt to the Stable Diffusion model to generate an image.\n"
      ],
      "metadata": {
        "id": "HAUVfXMshmnT"
      }
    },
    {
      "cell_type": "code",
      "source": [
        "# Text prompt\n",
        "prompt = input(\"Enter prompt : \")\n",
        "\n",
        "# Generate the image\n",
        "image = pipe(prompt).images[0]\n",
        "\n",
        "# Display the image\n",
        "image.show()\n"
      ],
      "metadata": {
        "colab": {
          "base_uri": "https://localhost:8080/",
          "height": 67,
          "referenced_widgets": [
            "bac31731685e4a8da0264649bb6e46de",
            "0c01dfd528644b70b48cf54b07d5ed4b",
            "82871dcd4ec445b184111420df6abc47",
            "71799a0b800845a4868c64731226a6c7",
            "ac0d9ff2ea264aa2920f603f0ae81a8b",
            "d5d9d6841bd84ed0a479c93b927493e2",
            "ff9a74afeb674a32acb5eeb2a5b21a88",
            "0c59ed5705f644b4becee7d9c24495eb",
            "3de3be868f8a475c9bf4fc291d8fc1e3",
            "750d9f02209c42abaaab9504030a8718",
            "0e5f3ee586f8459d9134e618b21d567f"
          ]
        },
        "id": "Db4wpRWUhm9t",
        "outputId": "439eed71-9e32-4924-f566-70112d3f391d"
      },
      "execution_count": null,
      "outputs": [
        {
          "name": "stdout",
          "output_type": "stream",
          "text": [
            "Enter prompt : A couple is walking in a snow valley in sunsine weather\n"
          ]
        },
        {
          "output_type": "display_data",
          "data": {
            "text/plain": [
              "  0%|          | 0/50 [00:00<?, ?it/s]"
            ],
            "application/vnd.jupyter.widget-view+json": {
              "version_major": 2,
              "version_minor": 0,
              "model_id": "bac31731685e4a8da0264649bb6e46de"
            }
          },
          "metadata": {}
        }
      ]
    },
    {
      "cell_type": "markdown",
      "source": [
        "# Save the Generated Image\n",
        "Save the generated image to the local directory for future use.\n"
      ],
      "metadata": {
        "id": "MTwknTiApaNM"
      }
    },
    {
      "cell_type": "code",
      "source": [
        "# Save the image\n",
        "image.save(\"generated_image7.png\")\n",
        "print(\"Image saved as 'generated_image7.png'\")\n"
      ],
      "metadata": {
        "colab": {
          "base_uri": "https://localhost:8080/"
        },
        "id": "9N8JCaAgpald",
        "outputId": "a39ac1b8-40ad-4947-f646-0ef1ad9b77bb"
      },
      "execution_count": null,
      "outputs": [
        {
          "output_type": "stream",
          "name": "stdout",
          "text": [
            "Image saved as 'generated_image7.png'\n"
          ]
        }
      ]
    },
    {
      "cell_type": "markdown",
      "source": [
        "# Generator and Discriminator Concepts\n",
        "- **Generator**: In this case, the Stable Diffusion model acts as the generator, transforming a text prompt into an image.\n",
        "- **Discriminator**: While not explicitly used here, in other models like GANs (Generative Adversarial Networks), the discriminator evaluates the quality of generated images.\n",
        "\n",
        "This distinction is important in understanding how Generative AI works:\n",
        "1. The generator creates content.\n",
        "2. The discriminator evaluates and provides feedback (if applicable).\n"
      ],
      "metadata": {
        "id": "AWu1S0vXppTo"
      }
    },
    {
      "cell_type": "markdown",
      "source": [
        "# Install Libraries for Discriminator\n",
        "We need `torchvision` to use a pre-trained ResNet-50 model for evaluating or classifying the generated image.\n"
      ],
      "metadata": {
        "id": "fYQHy0LGprNe"
      }
    },
    {
      "cell_type": "code",
      "source": [
        "!pip install torchvision\n"
      ],
      "metadata": {
        "id": "FJGjQeXXprjk"
      },
      "execution_count": null,
      "outputs": []
    },
    {
      "cell_type": "markdown",
      "source": [
        "# Load a Pre-trained Discriminator\n",
        "Here, we load a ResNet-50 model pre-trained on ImageNet. This model acts as the discriminator to classify the generated image.\n"
      ],
      "metadata": {
        "id": "rjM29wlupwNU"
      }
    },
    {
      "cell_type": "code",
      "source": [
        "import torchvision.transforms as transforms\n",
        "from torchvision.models import resnet50\n",
        "import torch.nn as nn\n",
        "\n",
        "# Load ResNet-50 pre-trained on ImageNet\n",
        "discriminator = resnet50(pretrained=True)\n",
        "discriminator.eval()\n",
        "\n",
        "# Transformation for input image\n",
        "transform = transforms.Compose([\n",
        "    transforms.Resize((224, 224)),  # Resize image to 224x224 for ResNet\n",
        "    transforms.ToTensor(),          # Convert image to tensor\n",
        "    transforms.Normalize(           # Normalize using ImageNet mean and std\n",
        "        mean=[0.485, 0.456, 0.406],\n",
        "        std=[0.229, 0.224, 0.225]\n",
        "    )\n",
        "])\n",
        "\n",
        "print(\"Discriminator (ResNet-50) loaded successfully!\")\n"
      ],
      "metadata": {
        "id": "pgL7Zeuypwdp"
      },
      "execution_count": null,
      "outputs": []
    },
    {
      "cell_type": "markdown",
      "source": [
        "# Evaluate the Generated Image\n",
        "We use the pre-trained ResNet-50 to classify the generated image and output the top predictions. This simulates how a discriminator evaluates or labels the generated image.\n"
      ],
      "metadata": {
        "id": "3jsw2skUp6jR"
      }
    },
    {
      "cell_type": "code",
      "source": [
        "# Convert PIL image to tensor for ResNet\n",
        "input_image = transform(image).unsqueeze(0)  # Add batch dimension\n",
        "\n",
        "# Pass the image through the discriminator\n",
        "with torch.no_grad():\n",
        "    output = discriminator(input_image)\n",
        "\n",
        "# Load ImageNet class labels\n",
        "!wget -qO imagenet_classes.txt https://raw.githubusercontent.com/anishathalye/imagenet-simple-labels/master/imagenet-simple-labels.json\n",
        "import json\n",
        "with open(\"imagenet_classes.txt\", \"r\") as f:\n",
        "    labels = json.load(f)\n",
        "\n",
        "# Get top 5 predictions\n",
        "probabilities = torch.nn.functional.softmax(output[0], dim=0)\n",
        "top5_prob, top5_catid = torch.topk(probabilities, 5)\n",
        "\n",
        "print(\"Top 5 Predictions for the Generated Image:\")\n",
        "for i in range(top5_prob.size(0)):\n",
        "    print(f\"{labels[top5_catid[i]]}: {top5_prob[i].item():.4f}\")\n"
      ],
      "metadata": {
        "id": "QNS2jKGMp62u"
      },
      "execution_count": null,
      "outputs": []
    }
  ]
}