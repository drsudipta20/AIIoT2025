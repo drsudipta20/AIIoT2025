{
  "cells": [
    {
      "cell_type": "markdown",
      "metadata": {
        "id": "kXwcCLlEg78F"
      },
      "source": [
        "# Install Required Libraries\n",
        "In this section, we install the required libraries for Generative AI, focusing on image generation using Stable Diffusion.\n"
      ]
    },
    {
      "cell_type": "code",
      "execution_count": null,
      "metadata": {
        "id": "mWvAr_O9ECOu"
      },
      "outputs": [],
      "source": []
    },
    {
      "cell_type": "markdown",
      "metadata": {},
      "source": [
        "Installing the Required External Libraries via pip : "
      ]
    },
    {
      "cell_type": "code",
      "execution_count": null,
      "metadata": {
        "id": "-FpfmqEFg8va"
      },
      "outputs": [],
      "source": [
        "!pip install diffusers transformers accelerate\n",
        "\n",
        "# Here we are installing the required libraries with pip i.e the native package manager of python\n",
        "# Additionally we are using the '!' before the command, which lets us run terminal Commands in Colab's runtime"
      ]
    },
    {
      "cell_type": "markdown",
      "metadata": {
        "id": "eq6KJDgBhEqH"
      },
      "source": [
        "# Introduction to Generative AI\n",
        "Generative AI involves creating new content, such as images, text, or audio, using AI models. For image generation:\n",
        "- **Generator**: Creates new images based on input (e.g., a text prompt).\n",
        "- **Discriminator**: Evaluates the generated content (mainly used in GANs).\n",
        "\n",
        "In this notebook, we'll use a pre-trained Stable Diffusion model to generate images from text prompts.\n"
      ]
    },
    {
      "cell_type": "markdown",
      "metadata": {
        "id": "Ue1Z6wjihPYn"
      },
      "source": [
        "# Import Libraries\n",
        "Import the necessary libraries for using the Stable Diffusion model.\n"
      ]
    },
    {
      "cell_type": "markdown",
      "metadata": {},
      "source": [
        "Importing the necessary packages"
      ]
    },
    {
      "cell_type": "code",
      "execution_count": null,
      "metadata": {
        "id": "VgFzHL9nhPy-"
      },
      "outputs": [],
      "source": [
        "# First, we make sure that the necessary libraries are available in our runtime environment.\n",
        "# Now, we import the specific packages that we'll use in this program.\n",
        "\n",
        "# Import the StableDiffusionPipeline class from the diffusers library,\n",
        "# which allows us to generate images from text prompts using a pre-trained model.\n",
        "from diffusers import StableDiffusionPipeline\n",
        "\n",
        "# Import the PyTorch library, which provides tools for deep learning and tensor computations.\n",
        "import torch\n",
        "\n",
        "# Import the Image module from the PIL (Python Imaging Library) package,\n",
        "# which helps us to work with images (opening, saving, and manipulating images).\n",
        "from PIL import Image\n"
      ]
    },
    {
      "cell_type": "markdown",
      "metadata": {
        "id": "-ib9giSXhYck"
      },
      "source": [
        "# Load a Pre-trained Model\n",
        "Here we load a pre-trained Stable Diffusion model from the `diffusers` library. This model generates images based on a given text prompt.\n"
      ]
    },
    {
      "cell_type": "code",
      "execution_count": null,
      "metadata": {
        "id": "lwqGZr1ahZNX"
      },
      "outputs": [],
      "source": [
        "# Load the Stable Diffusion model pipeline from the pretrained model hosted on the Hugging Face Hub.\n",
        "# \"runwayml/stable-diffusion-v1-5\" is the specific version of the model we want to use.\n",
        "pipe = StableDiffusionPipeline.from_pretrained(\"runwayml/stable-diffusion-v1-5\")\n",
        "\n",
        "# Move the model to the GPU (CUDA) if available for faster processing;\n",
        "# otherwise, use the CPU. This helps the program run more efficiently depending on the hardware.\n",
        "pipe = pipe.to(\"cuda\" if torch.cuda.is_available() else \"cpu\")\n",
        "\n",
        "# Print a message to confirm the model has been successfully loaded and is ready to use.\n",
        "print(\"Model loaded successfully!\")\n"
      ]
    },
    {
      "cell_type": "markdown",
      "metadata": {
        "id": "HAUVfXMshmnT"
      },
      "source": [
        "# Generate an Image\n",
        "Provide a text prompt to the Stable Diffusion model to generate an image.\n"
      ]
    },
    {
      "cell_type": "code",
      "execution_count": null,
      "metadata": {
        "colab": {
          "base_uri": "https://localhost:8080/",
          "height": 67,
          "referenced_widgets": [
            "bac31731685e4a8da0264649bb6e46de",
            "0c01dfd528644b70b48cf54b07d5ed4b",
            "82871dcd4ec445b184111420df6abc47",
            "71799a0b800845a4868c64731226a6c7",
            "ac0d9ff2ea264aa2920f603f0ae81a8b",
            "d5d9d6841bd84ed0a479c93b927493e2",
            "ff9a74afeb674a32acb5eeb2a5b21a88",
            "0c59ed5705f644b4becee7d9c24495eb",
            "3de3be868f8a475c9bf4fc291d8fc1e3",
            "750d9f02209c42abaaab9504030a8718",
            "0e5f3ee586f8459d9134e618b21d567f"
          ]
        },
        "id": "Db4wpRWUhm9t",
        "outputId": "439eed71-9e32-4924-f566-70112d3f391d"
      },
      "outputs": [
        {
          "name": "stdout",
          "output_type": "stream",
          "text": [
            "Enter prompt : A couple is walking in a snow valley in sunsine weather\n"
          ]
        },
        {
          "data": {
            "application/vnd.jupyter.widget-view+json": {
              "model_id": "bac31731685e4a8da0264649bb6e46de",
              "version_major": 2,
              "version_minor": 0
            },
            "text/plain": [
              "  0%|          | 0/50 [00:00<?, ?it/s]"
            ]
          },
          "metadata": {},
          "output_type": "display_data"
        }
      ],
      "source": [
        "# Ask the user to enter a text description (called a \"prompt\") that they want to turn into an image.\n",
        "prompt = input(\"Enter prompt : \")\n",
        "\n",
        "# Use the Stable Diffusion model pipeline to generate an image based on the user's text prompt.\n",
        "# The pipeline returns a list of generated images; we take the first one ([0]).\n",
        "image = pipe(prompt).images[0]\n",
        "\n",
        "# Show the generated image in a separate window using the default image viewer.\n",
        "image.show()\n"
      ]
    },
    {
      "cell_type": "markdown",
      "metadata": {
        "id": "MTwknTiApaNM"
      },
      "source": [
        "# Save the Generated Image\n",
        "Save the generated image to the local directory for future use.\n"
      ]
    },
    {
      "cell_type": "code",
      "execution_count": null,
      "metadata": {
        "colab": {
          "base_uri": "https://localhost:8080/"
        },
        "id": "9N8JCaAgpald",
        "outputId": "a39ac1b8-40ad-4947-f646-0ef1ad9b77bb"
      },
      "outputs": [
        {
          "name": "stdout",
          "output_type": "stream",
          "text": [
            "Image saved as 'generated_image7.png'\n"
          ]
        }
      ],
      "source": [
        "# Save the generated image to a file named \"generated_image7.png\" on your computer.\n",
        "image.save(\"generated_image7.png\")\n",
        "\n",
        "# Print a message to let the user know that the image has been saved successfully.\n",
        "print(\"Image saved as 'generated_image7.png'\")\n"
      ]
    },
    {
      "cell_type": "markdown",
      "metadata": {
        "id": "AWu1S0vXppTo"
      },
      "source": [
        "# Generator and Discriminator Concepts\n",
        "- **Generator**: In this case, the Stable Diffusion model acts as the generator, transforming a text prompt into an image.\n",
        "- **Discriminator**: While not explicitly used here, in other models like GANs (Generative Adversarial Networks), the discriminator evaluates the quality of generated images.\n",
        "\n",
        "This distinction is important in understanding how Generative AI works:\n",
        "1. The generator creates content.\n",
        "2. The discriminator evaluates and provides feedback (if applicable).\n"
      ]
    },
    {
      "cell_type": "markdown",
      "metadata": {
        "id": "fYQHy0LGprNe"
      },
      "source": [
        "# Install Libraries for Discriminator\n",
        "We need `torchvision` to use a pre-trained ResNet-50 model for evaluating or classifying the generated image.\n"
      ]
    },
    {
      "cell_type": "code",
      "execution_count": null,
      "metadata": {
        "id": "FJGjQeXXprjk"
      },
      "outputs": [],
      "source": [
        "# This command installs the 'torchvision' library directly within the notebook environment.\n",
        "# 'torchvision' provides additional tools and datasets for computer vision tasks in PyTorch.\n",
        "# The exclamation mark (!) lets us run shell commands like pip install from inside the notebook.\n",
        "!pip install torchvision\n"
      ]
    },
    {
      "cell_type": "markdown",
      "metadata": {
        "id": "rjM29wlupwNU"
      },
      "source": [
        "# Load a Pre-trained Discriminator\n",
        "Here, we load a ResNet-50 model pre-trained on ImageNet. This model acts as the discriminator to classify the generated image.\n"
      ]
    },
    {
      "cell_type": "code",
      "execution_count": null,
      "metadata": {
        "id": "pgL7Zeuypwdp"
      },
      "outputs": [],
      "source": [
        "# Import tools to transform images and load pre-trained models from torchvision\n",
        "import torchvision.transforms as transforms\n",
        "from torchvision.models import resnet50\n",
        "import torch.nn as nn\n",
        "\n",
        "# Load the ResNet-50 model pre-trained on the ImageNet dataset\n",
        "# This model will be used as a \"discriminator\" to evaluate images\n",
        "discriminator = resnet50(pretrained=True)\n",
        "\n",
        "# Set the model to evaluation mode, which turns off training-specific features like dropout\n",
        "discriminator.eval()\n",
        "\n",
        "# Define a series of transformations to prepare input images for the ResNet-50 model:\n",
        "transform = transforms.Compose([\n",
        "    transforms.Resize((224, 224)),  # Resize input image to 224x224 pixels, which is the expected size for ResNet-50\n",
        "    transforms.ToTensor(),          # Convert the image from PIL format to a PyTorch tensor (numeric array)\n",
        "    transforms.Normalize(           # Normalize the tensor using mean and standard deviation values from ImageNet dataset\n",
        "        mean=[0.485, 0.456, 0.406],  # These values center the color channels for better model performance\n",
        "        std=[0.229, 0.224, 0.225]\n",
        "    )\n",
        "])\n",
        "\n",
        "# Print confirmation that the ResNet-50 discriminator is ready for use\n",
        "print(\"Discriminator (ResNet-50) loaded successfully!\")\n"
      ]
    },
    {
      "cell_type": "markdown",
      "metadata": {
        "id": "3jsw2skUp6jR"
      },
      "source": [
        "# Evaluate the Generated Image\n",
        "We use the pre-trained ResNet-50 to classify the generated image and output the top predictions. This simulates how a discriminator evaluates or labels the generated image.\n"
      ]
    },
    {
      "cell_type": "code",
      "execution_count": null,
      "metadata": {
        "id": "QNS2jKGMp62u"
      },
      "outputs": [],
      "source": [
        "# Convert the generated PIL image into a tensor that the ResNet model can process.\n",
        "# The 'transform' function applies resizing, tensor conversion, and normalization.\n",
        "# unsqueeze(0) adds a batch dimension since the model expects input in batches.\n",
        "input_image = transform(image).unsqueeze(0)  # Shape: [1, 3, 224, 224]\n",
        "\n",
        "# Pass the processed image through the ResNet-50 model (discriminator).\n",
        "# 'torch.no_grad()' disables gradient calculations since we're only doing inference (not training),\n",
        "# which saves memory and speeds up computation.\n",
        "with torch.no_grad():\n",
        "    output = discriminator(input_image)\n",
        "\n",
        "# Download the file containing human-readable labels for ImageNet classes.\n",
        "# This file maps numeric class IDs to descriptive class names.\n",
        "!wget -qO imagenet_classes.txt https://raw.githubusercontent.com/anishathalye/imagenet-simple-labels/master/imagenet-simple-labels.json\n",
        "\n",
        "import json\n",
        "# Load the ImageNet class labels from the downloaded JSON file.\n",
        "with open(\"imagenet_classes.txt\", \"r\") as f:\n",
        "    labels = json.load(f)\n",
        "\n",
        "# Apply softmax to convert raw model outputs (logits) into probabilities.\n",
        "probabilities = torch.nn.functional.softmax(output[0], dim=0)\n",
        "\n",
        "# Find the top 5 categories with the highest probabilities.\n",
        "top5_prob, top5_catid = torch.topk(probabilities, 5)\n",
        "\n",
        "# Print the top 5 predicted labels along with their confidence scores.\n",
        "print(\"Top 5 Predictions for the Generated Image:\")\n",
        "for i in range(top5_prob.size(0)):\n",
        "    print(f\"{labels[top5_catid[i]]}: {top5_prob[i].item():.4f}\")\n"
      ]
    }
  ],
  "metadata": {
    "accelerator": "GPU",
    "colab": {
      "gpuType": "T4",
      "provenance": []
    },
    "kernelspec": {
      "display_name": "Python 3",
      "name": "python3"
    },
    "language_info": {
      "name": "python"
    },
    "widgets": {
      "application/vnd.jupyter.widget-state+json": {
        "0c01dfd528644b70b48cf54b07d5ed4b": {
          "model_module": "@jupyter-widgets/controls",
          "model_module_version": "1.5.0",
          "model_name": "HTMLModel",
          "state": {
            "_dom_classes": [],
            "_model_module": "@jupyter-widgets/controls",
            "_model_module_version": "1.5.0",
            "_model_name": "HTMLModel",
            "_view_count": null,
            "_view_module": "@jupyter-widgets/controls",
            "_view_module_version": "1.5.0",
            "_view_name": "HTMLView",
            "description": "",
            "description_tooltip": null,
            "layout": "IPY_MODEL_d5d9d6841bd84ed0a479c93b927493e2",
            "placeholder": "​",
            "style": "IPY_MODEL_ff9a74afeb674a32acb5eeb2a5b21a88",
            "value": "100%"
          }
        },
        "0c59ed5705f644b4becee7d9c24495eb": {
          "model_module": "@jupyter-widgets/base",
          "model_module_version": "1.2.0",
          "model_name": "LayoutModel",
          "state": {
            "_model_module": "@jupyter-widgets/base",
            "_model_module_version": "1.2.0",
            "_model_name": "LayoutModel",
            "_view_count": null,
            "_view_module": "@jupyter-widgets/base",
            "_view_module_version": "1.2.0",
            "_view_name": "LayoutView",
            "align_content": null,
            "align_items": null,
            "align_self": null,
            "border": null,
            "bottom": null,
            "display": null,
            "flex": null,
            "flex_flow": null,
            "grid_area": null,
            "grid_auto_columns": null,
            "grid_auto_flow": null,
            "grid_auto_rows": null,
            "grid_column": null,
            "grid_gap": null,
            "grid_row": null,
            "grid_template_areas": null,
            "grid_template_columns": null,
            "grid_template_rows": null,
            "height": null,
            "justify_content": null,
            "justify_items": null,
            "left": null,
            "margin": null,
            "max_height": null,
            "max_width": null,
            "min_height": null,
            "min_width": null,
            "object_fit": null,
            "object_position": null,
            "order": null,
            "overflow": null,
            "overflow_x": null,
            "overflow_y": null,
            "padding": null,
            "right": null,
            "top": null,
            "visibility": null,
            "width": null
          }
        },
        "0e5f3ee586f8459d9134e618b21d567f": {
          "model_module": "@jupyter-widgets/controls",
          "model_module_version": "1.5.0",
          "model_name": "DescriptionStyleModel",
          "state": {
            "_model_module": "@jupyter-widgets/controls",
            "_model_module_version": "1.5.0",
            "_model_name": "DescriptionStyleModel",
            "_view_count": null,
            "_view_module": "@jupyter-widgets/base",
            "_view_module_version": "1.2.0",
            "_view_name": "StyleView",
            "description_width": ""
          }
        },
        "3de3be868f8a475c9bf4fc291d8fc1e3": {
          "model_module": "@jupyter-widgets/controls",
          "model_module_version": "1.5.0",
          "model_name": "ProgressStyleModel",
          "state": {
            "_model_module": "@jupyter-widgets/controls",
            "_model_module_version": "1.5.0",
            "_model_name": "ProgressStyleModel",
            "_view_count": null,
            "_view_module": "@jupyter-widgets/base",
            "_view_module_version": "1.2.0",
            "_view_name": "StyleView",
            "bar_color": null,
            "description_width": ""
          }
        },
        "71799a0b800845a4868c64731226a6c7": {
          "model_module": "@jupyter-widgets/controls",
          "model_module_version": "1.5.0",
          "model_name": "HTMLModel",
          "state": {
            "_dom_classes": [],
            "_model_module": "@jupyter-widgets/controls",
            "_model_module_version": "1.5.0",
            "_model_name": "HTMLModel",
            "_view_count": null,
            "_view_module": "@jupyter-widgets/controls",
            "_view_module_version": "1.5.0",
            "_view_name": "HTMLView",
            "description": "",
            "description_tooltip": null,
            "layout": "IPY_MODEL_750d9f02209c42abaaab9504030a8718",
            "placeholder": "​",
            "style": "IPY_MODEL_0e5f3ee586f8459d9134e618b21d567f",
            "value": " 50/50 [00:22&lt;00:00,  2.28it/s]"
          }
        },
        "750d9f02209c42abaaab9504030a8718": {
          "model_module": "@jupyter-widgets/base",
          "model_module_version": "1.2.0",
          "model_name": "LayoutModel",
          "state": {
            "_model_module": "@jupyter-widgets/base",
            "_model_module_version": "1.2.0",
            "_model_name": "LayoutModel",
            "_view_count": null,
            "_view_module": "@jupyter-widgets/base",
            "_view_module_version": "1.2.0",
            "_view_name": "LayoutView",
            "align_content": null,
            "align_items": null,
            "align_self": null,
            "border": null,
            "bottom": null,
            "display": null,
            "flex": null,
            "flex_flow": null,
            "grid_area": null,
            "grid_auto_columns": null,
            "grid_auto_flow": null,
            "grid_auto_rows": null,
            "grid_column": null,
            "grid_gap": null,
            "grid_row": null,
            "grid_template_areas": null,
            "grid_template_columns": null,
            "grid_template_rows": null,
            "height": null,
            "justify_content": null,
            "justify_items": null,
            "left": null,
            "margin": null,
            "max_height": null,
            "max_width": null,
            "min_height": null,
            "min_width": null,
            "object_fit": null,
            "object_position": null,
            "order": null,
            "overflow": null,
            "overflow_x": null,
            "overflow_y": null,
            "padding": null,
            "right": null,
            "top": null,
            "visibility": null,
            "width": null
          }
        },
        "82871dcd4ec445b184111420df6abc47": {
          "model_module": "@jupyter-widgets/controls",
          "model_module_version": "1.5.0",
          "model_name": "FloatProgressModel",
          "state": {
            "_dom_classes": [],
            "_model_module": "@jupyter-widgets/controls",
            "_model_module_version": "1.5.0",
            "_model_name": "FloatProgressModel",
            "_view_count": null,
            "_view_module": "@jupyter-widgets/controls",
            "_view_module_version": "1.5.0",
            "_view_name": "ProgressView",
            "bar_style": "success",
            "description": "",
            "description_tooltip": null,
            "layout": "IPY_MODEL_0c59ed5705f644b4becee7d9c24495eb",
            "max": 50,
            "min": 0,
            "orientation": "horizontal",
            "style": "IPY_MODEL_3de3be868f8a475c9bf4fc291d8fc1e3",
            "value": 50
          }
        },
        "ac0d9ff2ea264aa2920f603f0ae81a8b": {
          "model_module": "@jupyter-widgets/base",
          "model_module_version": "1.2.0",
          "model_name": "LayoutModel",
          "state": {
            "_model_module": "@jupyter-widgets/base",
            "_model_module_version": "1.2.0",
            "_model_name": "LayoutModel",
            "_view_count": null,
            "_view_module": "@jupyter-widgets/base",
            "_view_module_version": "1.2.0",
            "_view_name": "LayoutView",
            "align_content": null,
            "align_items": null,
            "align_self": null,
            "border": null,
            "bottom": null,
            "display": null,
            "flex": null,
            "flex_flow": null,
            "grid_area": null,
            "grid_auto_columns": null,
            "grid_auto_flow": null,
            "grid_auto_rows": null,
            "grid_column": null,
            "grid_gap": null,
            "grid_row": null,
            "grid_template_areas": null,
            "grid_template_columns": null,
            "grid_template_rows": null,
            "height": null,
            "justify_content": null,
            "justify_items": null,
            "left": null,
            "margin": null,
            "max_height": null,
            "max_width": null,
            "min_height": null,
            "min_width": null,
            "object_fit": null,
            "object_position": null,
            "order": null,
            "overflow": null,
            "overflow_x": null,
            "overflow_y": null,
            "padding": null,
            "right": null,
            "top": null,
            "visibility": null,
            "width": null
          }
        },
        "bac31731685e4a8da0264649bb6e46de": {
          "model_module": "@jupyter-widgets/controls",
          "model_module_version": "1.5.0",
          "model_name": "HBoxModel",
          "state": {
            "_dom_classes": [],
            "_model_module": "@jupyter-widgets/controls",
            "_model_module_version": "1.5.0",
            "_model_name": "HBoxModel",
            "_view_count": null,
            "_view_module": "@jupyter-widgets/controls",
            "_view_module_version": "1.5.0",
            "_view_name": "HBoxView",
            "box_style": "",
            "children": [
              "IPY_MODEL_0c01dfd528644b70b48cf54b07d5ed4b",
              "IPY_MODEL_82871dcd4ec445b184111420df6abc47",
              "IPY_MODEL_71799a0b800845a4868c64731226a6c7"
            ],
            "layout": "IPY_MODEL_ac0d9ff2ea264aa2920f603f0ae81a8b"
          }
        },
        "d5d9d6841bd84ed0a479c93b927493e2": {
          "model_module": "@jupyter-widgets/base",
          "model_module_version": "1.2.0",
          "model_name": "LayoutModel",
          "state": {
            "_model_module": "@jupyter-widgets/base",
            "_model_module_version": "1.2.0",
            "_model_name": "LayoutModel",
            "_view_count": null,
            "_view_module": "@jupyter-widgets/base",
            "_view_module_version": "1.2.0",
            "_view_name": "LayoutView",
            "align_content": null,
            "align_items": null,
            "align_self": null,
            "border": null,
            "bottom": null,
            "display": null,
            "flex": null,
            "flex_flow": null,
            "grid_area": null,
            "grid_auto_columns": null,
            "grid_auto_flow": null,
            "grid_auto_rows": null,
            "grid_column": null,
            "grid_gap": null,
            "grid_row": null,
            "grid_template_areas": null,
            "grid_template_columns": null,
            "grid_template_rows": null,
            "height": null,
            "justify_content": null,
            "justify_items": null,
            "left": null,
            "margin": null,
            "max_height": null,
            "max_width": null,
            "min_height": null,
            "min_width": null,
            "object_fit": null,
            "object_position": null,
            "order": null,
            "overflow": null,
            "overflow_x": null,
            "overflow_y": null,
            "padding": null,
            "right": null,
            "top": null,
            "visibility": null,
            "width": null
          }
        },
        "ff9a74afeb674a32acb5eeb2a5b21a88": {
          "model_module": "@jupyter-widgets/controls",
          "model_module_version": "1.5.0",
          "model_name": "DescriptionStyleModel",
          "state": {
            "_model_module": "@jupyter-widgets/controls",
            "_model_module_version": "1.5.0",
            "_model_name": "DescriptionStyleModel",
            "_view_count": null,
            "_view_module": "@jupyter-widgets/base",
            "_view_module_version": "1.2.0",
            "_view_name": "StyleView",
            "description_width": ""
          }
        }
      }
    }
  },
  "nbformat": 4,
  "nbformat_minor": 0
}
