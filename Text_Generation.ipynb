{
  "nbformat": 4,
  "nbformat_minor": 0,
  "metadata": {
    "colab": {
      "provenance": [],
      "gpuType": "T4",
      "authorship_tag": "ABX9TyMAQtoAVmZbcNeQqgqf5BbB",
      "include_colab_link": true
    },
    "kernelspec": {
      "name": "python3",
      "display_name": "Python 3"
    },
    "language_info": {
      "name": "python"
    },
    "accelerator": "GPU"
  },
  "cells": [
    {
      "cell_type": "markdown",
      "metadata": {
        "id": "view-in-github",
        "colab_type": "text"
      },
      "source": [
        "<a href=\"https://colab.research.google.com/github/drsudipta20/AIIoT2025/blob/main/Text_Generation.ipynb\" target=\"_parent\"><img src=\"https://colab.research.google.com/assets/colab-badge.svg\" alt=\"Open In Colab\"/></a>"
      ]
    },
    {
      "cell_type": "markdown",
      "source": [
        "**To use this code in Google Colab:**\n",
        "\n",
        "*  Open a new Google Colab notebook\n",
        "*Copy and paste the code into a cell\n",
        "*   Run the cell (it will first install the required libraries)\n",
        "*The code will generate text based on the given prompt\n",
        "\n",
        "**You can customize the generation by adjusting these parameters:**\n",
        "\n",
        "*\tmax_length: Maximum length of the generated text\n",
        "*\ttemperature: Higher values (e.g., 1.0) make the output more random, lower values (e.g., 0.2) make it more focused\n",
        "*top_k: Number of highest probability vocabulary tokens to keep for top-k filtering\n",
        "*top_p: Cumulative probability for top-p filtering\n",
        "\n",
        "**You can also try different models by changing the model name in from_pretrained(). Some options include:**\n",
        "\n",
        "*   'gpt2-medium'\n",
        "*   'gpt2-large'\n",
        "*'gpt2-xl'\n",
        "\n",
        "Note that larger models will require more computational resources and may run slower in Colab.\n"
      ],
      "metadata": {
        "id": "YcU0j6ufAH-p"
      }
    },
    {
      "cell_type": "code",
      "source": [
        "# Install required libraries\n",
        "!pip install transformers torch\n",
        "\n",
        "import torch\n",
        "from transformers import GPT2LMHeadModel, GPT2Tokenizer\n",
        "\n",
        "def generate_text(prompt, max_length=500):\n",
        "    # Load pre-trained model and tokenizer\n",
        "    tokenizer = GPT2Tokenizer.from_pretrained('gpt2')\n",
        "    model = GPT2LMHeadModel.from_pretrained('gpt2')\n",
        "\n",
        "    # Encode the input prompt\n",
        "    inputs = tokenizer.encode(prompt, return_tensors='pt')\n",
        "\n",
        "    # Generate text\n",
        "    outputs = model.generate(\n",
        "        inputs,\n",
        "        max_length=max_length,\n",
        "        num_return_sequences=1,\n",
        "        no_repeat_ngram_size=2,\n",
        "        temperature=0.7,\n",
        "        top_k=50,\n",
        "        top_p=0.95,\n",
        "        do_sample=True,\n",
        "        pad_token_id=tokenizer.eos_token_id\n",
        "    )\n",
        "\n",
        "    # Decode and return the generated text\n",
        "    generated_text = tokenizer.decode(outputs[0], skip_special_tokens=True)\n",
        "    return generated_text\n",
        "\n"
      ],
      "metadata": {
        "id": "p0N-m7xJRVrf"
      },
      "execution_count": null,
      "outputs": []
    },
    {
      "cell_type": "code",
      "source": [
        "# Example usage\n",
        "prompt = \"Describe about Tesla\"\n",
        "generated_text = generate_text(prompt)\n",
        "print(\"Generated text:\")\n",
        "print(generated_text)"
      ],
      "metadata": {
        "id": "ZbSYgwU_2ROD"
      },
      "execution_count": null,
      "outputs": []
    }
  ]
}