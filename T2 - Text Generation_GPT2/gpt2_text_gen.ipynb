{
  "cells": [
    {
      "cell_type": "markdown",
      "metadata": {
        "id": "YcU0j6ufAH-p"
      },
      "source": [
        "**To use this code in Google Colab:**\n",
        "\n",
        "*  Open a new Google Colab notebook\n",
        "*Copy and paste the code into a cell\n",
        "*   Run the cell (it will first install the required libraries)\n",
        "*The code will generate text based on the given prompt\n",
        "\n",
        "**You can customize the generation by adjusting these parameters:**\n",
        "\n",
        "*\tmax_length: Maximum length of the generated text\n",
        "*\ttemperature: Higher values (e.g., 1.0) make the output more random, lower values (e.g., 0.2) make it more focused\n",
        "*top_k: Number of highest probability vocabulary tokens to keep for top-k filtering\n",
        "*top_p: Cumulative probability for top-p filtering\n",
        "\n",
        "**You can also try different models by changing the model name in from_pretrained(). Some options include:**\n",
        "\n",
        "*   'gpt2-medium'\n",
        "*   'gpt2-large'\n",
        "*'gpt2-xl'\n",
        "\n",
        "Note that larger models will require more computational resources and may run slower in Colab.\n"
      ]
    },
    {
      "cell_type": "code",
      "execution_count": null,
      "metadata": {
        "id": "p0N-m7xJRVrf"
      },
      "outputs": [],
      "source": [
        "# Install the required libraries: transformers and torch (PyTorch)\n",
        "!pip install transformers torch\n",
        "\n",
        "import torch\n",
        "from transformers import GPT2LMHeadModel, GPT2Tokenizer\n",
        "\n",
        "def generate_text(prompt, max_length=500):\n",
        "    # Load the GPT-2 tokenizer, which converts text into tokens the model understands\n",
        "    tokenizer = GPT2Tokenizer.from_pretrained('gpt2')\n",
        "    \n",
        "    # Load the pre-trained GPT-2 language model\n",
        "    model = GPT2LMHeadModel.from_pretrained('gpt2')\n",
        "    \n",
        "    # Convert the input prompt text into token IDs, wrapped in a tensor for PyTorch\n",
        "    inputs = tokenizer.encode(prompt, return_tensors='pt')\n",
        "    \n",
        "    # Generate text using the model based on the input tokens with specified settings:\n",
        "    outputs = model.generate(\n",
        "        inputs,\n",
        "        max_length=max_length,           # Maximum length of generated text including input\n",
        "        num_return_sequences=1,          # Generate only one output sequence\n",
        "        no_repeat_ngram_size=2,          # Avoid repeating any 2-gram sequences to reduce repetition\n",
        "        temperature=0.7,                 # Controls creativity/randomness of the output (lower = more focused)\n",
        "        top_k=50,                       # Limits token choices to top 50 candidates at each step (sampling method)\n",
        "        top_p=0.95,                     # Limits token choices to cumulative top 95% probability mass (nucleus sampling)\n",
        "        do_sample=True,                 # Enables sampling instead of greedy decoding to add variation\n",
        "        pad_token_id=tokenizer.eos_token_id  # Use end-of-sequence token for padding if needed\n",
        "    )\n",
        "    \n",
        "    # Decode the generated token IDs back into a human-readable string, skipping special tokens\n",
        "    generated_text = tokenizer.decode(outputs[0], skip_special_tokens=True)\n",
        "    \n",
        "    # Return the generated text string\n",
        "    return generated_text\n"
      ]
    },
    {
      "cell_type": "code",
      "execution_count": null,
      "metadata": {
        "id": "ZbSYgwU_2ROD"
      },
      "outputs": [],
      "source": [
        "# Example usage of the generate_text function\n",
        "\n",
        "# Define a prompt to give context for the text generation\n",
        "prompt = \"Describe about Tesla\"\n",
        "\n",
        "# Call the generate_text function with the prompt to get the generated output\n",
        "generated_text = generate_text(prompt)\n",
        "\n",
        "# Print the generated text\n",
        "print(\"Generated text:\")\n",
        "print(generated_text)\n"
      ]
    }
  ],
  "metadata": {
    "accelerator": "GPU",
    "colab": {
      "gpuType": "L4",
      "provenance": []
    },
    "kernelspec": {
      "display_name": "Python 3",
      "name": "python3"
    },
    "language_info": {
      "name": "python"
    }
  },
  "nbformat": 4,
  "nbformat_minor": 0
}
